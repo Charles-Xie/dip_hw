{
 "cells": [
  {
   "cell_type": "code",
   "execution_count": 1,
   "metadata": {},
   "outputs": [],
   "source": [
    "# necessary for 3D\n",
    "from mpl_toolkits.mplot3d import Axes3D\n",
    "import matplotlib.pyplot as plt\n",
    "import numpy as np\n",
    "\n",
    "# import what's necessary for generating .gif file\n",
    "from moviepy.video.io.bindings import mplfig_to_npimage\n",
    "import moviepy.editor as mpy\n",
    "import mayavi.mlab as mlab"
   ]
  },
  {
   "cell_type": "code",
   "execution_count": null,
   "metadata": {
    "collapsed": true
   },
   "outputs": [],
   "source": [
    "# set the value of sigma\n",
    "# sigma = 5"
   ]
  },
  {
   "cell_type": "code",
   "execution_count": 2,
   "metadata": {
    "collapsed": true
   },
   "outputs": [],
   "source": [
    "# Make data.\n",
    "X = np.arange(0, 20, 0.1)\n",
    "Y = np.arange(0, 20, 0.1)\n",
    "# print X\n",
    "# print Y\n",
    "X, Y = np.meshgrid(X, Y)\n",
    "# print X\n",
    "# print Y"
   ]
  },
  {
   "cell_type": "code",
   "execution_count": 3,
   "metadata": {
    "collapsed": true
   },
   "outputs": [],
   "source": [
    "# E = np.exp( - ((X - 10)**2 + (Y - 10)**2) / (2 * sigma**2))\n",
    "# Z = E / (2 * np.pi * sigma**2)\n",
    "Z = lambda sigma: np.exp( - ((X - 10)**2 + (Y - 10)**2) / (2 * sigma**2)) / (2 * np.pi * sigma**2)\n",
    "# print Z"
   ]
  },
  {
   "cell_type": "code",
   "execution_count": 4,
   "metadata": {},
   "outputs": [
    {
     "name": "stderr",
     "output_type": "stream",
     "text": [
      "ERROR:root:An unexpected error occurred while tokenizing input\n",
      "The following traceback may be corrupted or invalid\n",
      "The error message is: ('EOF in multi-line string', (1, 0))\n",
      "\n"
     ]
    },
    {
     "ename": "ImportError",
     "evalue": "Could not import backend for traits\n_______________________________________________________________________________\nMake sure that you have either the TraitsBackendWx or the TraitsBackendQt\nprojects installed. If you installed Mayavi with easy_install, try\neasy_install <pkg_name>. easy_install Mayavi[app] will also work.\n\nIf you performed a source checkout, be sure to run 'python setup.py install'\nin Traits, TraitsGUI, and the Traits backend of your choice.\n\nAlso make sure that either wxPython or PyQT is installed.\nwxPython: http://www.wxpython.org/\nPyQT: http://www.riverbankcomputing.co.uk/software/pyqt/intro\n",
     "output_type": "error",
     "traceback": [
      "\u001b[0;31m---------------------------------------------------------------------------\u001b[0m",
      "\u001b[0;31mImportError\u001b[0m                               Traceback (most recent call last)",
      "\u001b[0;32m<ipython-input-4-28cec454b7a9>\u001b[0m in \u001b[0;36m<module>\u001b[0;34m()\u001b[0m\n\u001b[0;32m----> 1\u001b[0;31m \u001b[0mmlab\u001b[0m\u001b[0;34m.\u001b[0m\u001b[0mfigure\u001b[0m\u001b[0;34m(\u001b[0m\u001b[0;34m)\u001b[0m\u001b[0;34m\u001b[0m\u001b[0m\n\u001b[0m",
      "\u001b[0;32m/home/charles_xie/anaconda2/lib/python2.7/site-packages/mayavi-4.5.0-py2.7-linux-x86_64.egg/mayavi/tools/figure.pyc\u001b[0m in \u001b[0;36mfigure\u001b[0;34m(figure, bgcolor, fgcolor, engine, size)\u001b[0m\n\u001b[1;32m     61\u001b[0m     \u001b[0;32melse\u001b[0m\u001b[0;34m:\u001b[0m\u001b[0;34m\u001b[0m\u001b[0m\n\u001b[1;32m     62\u001b[0m         \u001b[0;32mif\u001b[0m \u001b[0mengine\u001b[0m \u001b[0;32mis\u001b[0m \u001b[0mNone\u001b[0m\u001b[0;34m:\u001b[0m\u001b[0;34m\u001b[0m\u001b[0m\n\u001b[0;32m---> 63\u001b[0;31m             \u001b[0mengine\u001b[0m \u001b[0;34m=\u001b[0m \u001b[0mget_engine\u001b[0m\u001b[0;34m(\u001b[0m\u001b[0;34m)\u001b[0m\u001b[0;34m\u001b[0m\u001b[0m\n\u001b[0m\u001b[1;32m     64\u001b[0m         \u001b[0;32mif\u001b[0m \u001b[0mfigure\u001b[0m \u001b[0;32mis\u001b[0m \u001b[0mNone\u001b[0m\u001b[0;34m:\u001b[0m\u001b[0;34m\u001b[0m\u001b[0m\n\u001b[1;32m     65\u001b[0m             \u001b[0mname\u001b[0m \u001b[0;34m=\u001b[0m \u001b[0mmax\u001b[0m\u001b[0;34m(\u001b[0m\u001b[0m__scene_number_list\u001b[0m\u001b[0;34m)\u001b[0m \u001b[0;34m+\u001b[0m \u001b[0;36m1\u001b[0m\u001b[0;34m\u001b[0m\u001b[0m\n",
      "\u001b[0;32m/home/charles_xie/anaconda2/lib/python2.7/site-packages/mayavi-4.5.0-py2.7-linux-x86_64.egg/mayavi/tools/engine_manager.pyc\u001b[0m in \u001b[0;36mget_engine\u001b[0;34m(self)\u001b[0m\n\u001b[1;32m     99\u001b[0m                                 if e.__class__.__name__ == 'Engine']\n\u001b[1;32m    100\u001b[0m         \u001b[0;32mif\u001b[0m \u001b[0mlen\u001b[0m\u001b[0;34m(\u001b[0m\u001b[0msuitable\u001b[0m\u001b[0;34m)\u001b[0m \u001b[0;34m==\u001b[0m \u001b[0;36m0\u001b[0m\u001b[0;34m:\u001b[0m\u001b[0;34m\u001b[0m\u001b[0m\n\u001b[0;32m--> 101\u001b[0;31m             \u001b[0;32mreturn\u001b[0m \u001b[0mself\u001b[0m\u001b[0;34m.\u001b[0m\u001b[0mnew_engine\u001b[0m\u001b[0;34m(\u001b[0m\u001b[0;34m)\u001b[0m\u001b[0;34m\u001b[0m\u001b[0m\n\u001b[0m\u001b[1;32m    102\u001b[0m         \u001b[0;32melse\u001b[0m\u001b[0;34m:\u001b[0m\u001b[0;34m\u001b[0m\u001b[0m\n\u001b[1;32m    103\u001b[0m             \u001b[0;31m# Return the most engine add to the list most recently.\u001b[0m\u001b[0;34m\u001b[0m\u001b[0;34m\u001b[0m\u001b[0m\n",
      "\u001b[0;32m/home/charles_xie/anaconda2/lib/python2.7/site-packages/mayavi-4.5.0-py2.7-linux-x86_64.egg/mayavi/tools/engine_manager.pyc\u001b[0m in \u001b[0;36mnew_engine\u001b[0;34m(self)\u001b[0m\n\u001b[1;32m    144\u001b[0m             \u001b[0moptions\u001b[0m\u001b[0;34m.\u001b[0m\u001b[0;34m\u001b[0m\u001b[0m\n\u001b[1;32m    145\u001b[0m         \"\"\"\n\u001b[0;32m--> 146\u001b[0;31m         \u001b[0mcheck_backend\u001b[0m\u001b[0;34m(\u001b[0m\u001b[0;34m)\u001b[0m\u001b[0;34m\u001b[0m\u001b[0m\n\u001b[0m\u001b[1;32m    147\u001b[0m         \u001b[0;32mif\u001b[0m \u001b[0moptions\u001b[0m\u001b[0;34m.\u001b[0m\u001b[0mbackend\u001b[0m \u001b[0;34m==\u001b[0m \u001b[0;34m'envisage'\u001b[0m\u001b[0;34m:\u001b[0m\u001b[0;34m\u001b[0m\u001b[0m\n\u001b[1;32m    148\u001b[0m             \u001b[0;32mfrom\u001b[0m \u001b[0mmayavi\u001b[0m\u001b[0;34m.\u001b[0m\u001b[0mplugins\u001b[0m\u001b[0;34m.\u001b[0m\u001b[0mapp\u001b[0m \u001b[0;32mimport\u001b[0m \u001b[0mMayavi\u001b[0m\u001b[0;34m\u001b[0m\u001b[0m\n",
      "\u001b[0;32m/home/charles_xie/anaconda2/lib/python2.7/site-packages/mayavi-4.5.0-py2.7-linux-x86_64.egg/mayavi/tools/engine_manager.pyc\u001b[0m in \u001b[0;36mcheck_backend\u001b[0;34m()\u001b[0m\n\u001b[1;32m     47\u001b[0m \u001b[0mwxPython\u001b[0m\u001b[0;34m:\u001b[0m \u001b[0mhttp\u001b[0m\u001b[0;34m:\u001b[0m\u001b[0;34m//\u001b[0m\u001b[0mwww\u001b[0m\u001b[0;34m.\u001b[0m\u001b[0mwxpython\u001b[0m\u001b[0;34m.\u001b[0m\u001b[0morg\u001b[0m\u001b[0;34m/\u001b[0m\u001b[0;34m\u001b[0m\u001b[0m\n\u001b[1;32m     48\u001b[0m \u001b[0mPyQT\u001b[0m\u001b[0;34m:\u001b[0m \u001b[0mhttp\u001b[0m\u001b[0;34m:\u001b[0m\u001b[0;34m//\u001b[0m\u001b[0mwww\u001b[0m\u001b[0;34m.\u001b[0m\u001b[0mriverbankcomputing\u001b[0m\u001b[0;34m.\u001b[0m\u001b[0mco\u001b[0m\u001b[0;34m.\u001b[0m\u001b[0muk\u001b[0m\u001b[0;34m/\u001b[0m\u001b[0msoftware\u001b[0m\u001b[0;34m/\u001b[0m\u001b[0mpyqt\u001b[0m\u001b[0;34m/\u001b[0m\u001b[0mintro\u001b[0m\u001b[0;34m\u001b[0m\u001b[0m\n\u001b[0;32m---> 49\u001b[0;31m ''')\n\u001b[0m\u001b[1;32m     50\u001b[0m \u001b[0;34m\u001b[0m\u001b[0m\n\u001b[1;32m     51\u001b[0m \u001b[0;34m\u001b[0m\u001b[0m\n",
      "\u001b[0;31mImportError\u001b[0m: Could not import backend for traits\n_______________________________________________________________________________\nMake sure that you have either the TraitsBackendWx or the TraitsBackendQt\nprojects installed. If you installed Mayavi with easy_install, try\neasy_install <pkg_name>. easy_install Mayavi[app] will also work.\n\nIf you performed a source checkout, be sure to run 'python setup.py install'\nin Traits, TraitsGUI, and the Traits backend of your choice.\n\nAlso make sure that either wxPython or PyQT is installed.\nwxPython: http://www.wxpython.org/\nPyQT: http://www.riverbankcomputing.co.uk/software/pyqt/intro\n"
     ]
    }
   ],
   "source": [
    "mlab.figure()\n"
   ]
  },
  {
   "cell_type": "code",
   "execution_count": null,
   "metadata": {
    "collapsed": true
   },
   "outputs": [],
   "source": [
    "# create the graph\n",
    "fig = plt.figure(\"3D surface gaussian function\")\n",
    "ax = fig.add_subplot(1, 2, 1, projection='3d')\n",
    "\n",
    "ax.plot_surface(X, Y, Z, alpha=0.7, cmap='jet', rstride=1, cstride=1, lw=0)"
   ]
  },
  {
   "cell_type": "code",
   "execution_count": null,
   "metadata": {
    "collapsed": true
   },
   "outputs": [],
   "source": [
    "plt.show()"
   ]
  }
 ],
 "metadata": {
  "kernelspec": {
   "display_name": "Python 2",
   "language": "python",
   "name": "python2"
  },
  "language_info": {
   "codemirror_mode": {
    "name": "ipython",
    "version": 2
   },
   "file_extension": ".py",
   "mimetype": "text/x-python",
   "name": "python",
   "nbconvert_exporter": "python",
   "pygments_lexer": "ipython2",
   "version": "2.7.13"
  }
 },
 "nbformat": 4,
 "nbformat_minor": 2
}
